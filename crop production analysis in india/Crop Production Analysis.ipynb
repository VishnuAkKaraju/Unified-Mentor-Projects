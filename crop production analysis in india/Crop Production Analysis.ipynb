{
 "cells": [
  {
   "cell_type": "code",
   "execution_count": 1,
   "id": "3beb4d31",
   "metadata": {},
   "outputs": [],
   "source": [
    "import numpy as np\n",
    "import pandas as pd\n",
    "import matplotlib.pyplot as plt\n",
    "import seaborn as sns"
   ]
  },
  {
   "cell_type": "code",
   "execution_count": 2,
   "id": "f30bc668",
   "metadata": {},
   "outputs": [],
   "source": [
    "df=pd.read_csv(\"C:/Users/akkar/Crop Production data.csv\")"
   ]
  },
  {
   "cell_type": "code",
   "execution_count": 3,
   "id": "5fb23c4b",
   "metadata": {},
   "outputs": [
    {
     "data": {
      "text/html": [
       "<div>\n",
       "<style scoped>\n",
       "    .dataframe tbody tr th:only-of-type {\n",
       "        vertical-align: middle;\n",
       "    }\n",
       "\n",
       "    .dataframe tbody tr th {\n",
       "        vertical-align: top;\n",
       "    }\n",
       "\n",
       "    .dataframe thead th {\n",
       "        text-align: right;\n",
       "    }\n",
       "</style>\n",
       "<table border=\"1\" class=\"dataframe\">\n",
       "  <thead>\n",
       "    <tr style=\"text-align: right;\">\n",
       "      <th></th>\n",
       "      <th>State_Name</th>\n",
       "      <th>District_Name</th>\n",
       "      <th>Crop_Year</th>\n",
       "      <th>Season</th>\n",
       "      <th>Crop</th>\n",
       "      <th>Area</th>\n",
       "      <th>Production</th>\n",
       "    </tr>\n",
       "  </thead>\n",
       "  <tbody>\n",
       "    <tr>\n",
       "      <th>0</th>\n",
       "      <td>Andaman and Nicobar Islands</td>\n",
       "      <td>NICOBARS</td>\n",
       "      <td>2000</td>\n",
       "      <td>Kharif</td>\n",
       "      <td>Arecanut</td>\n",
       "      <td>1254.0</td>\n",
       "      <td>2000.0</td>\n",
       "    </tr>\n",
       "    <tr>\n",
       "      <th>1</th>\n",
       "      <td>Andaman and Nicobar Islands</td>\n",
       "      <td>NICOBARS</td>\n",
       "      <td>2000</td>\n",
       "      <td>Kharif</td>\n",
       "      <td>Other Kharif pulses</td>\n",
       "      <td>2.0</td>\n",
       "      <td>1.0</td>\n",
       "    </tr>\n",
       "    <tr>\n",
       "      <th>2</th>\n",
       "      <td>Andaman and Nicobar Islands</td>\n",
       "      <td>NICOBARS</td>\n",
       "      <td>2000</td>\n",
       "      <td>Kharif</td>\n",
       "      <td>Rice</td>\n",
       "      <td>102.0</td>\n",
       "      <td>321.0</td>\n",
       "    </tr>\n",
       "    <tr>\n",
       "      <th>3</th>\n",
       "      <td>Andaman and Nicobar Islands</td>\n",
       "      <td>NICOBARS</td>\n",
       "      <td>2000</td>\n",
       "      <td>Whole Year</td>\n",
       "      <td>Banana</td>\n",
       "      <td>176.0</td>\n",
       "      <td>641.0</td>\n",
       "    </tr>\n",
       "    <tr>\n",
       "      <th>4</th>\n",
       "      <td>Andaman and Nicobar Islands</td>\n",
       "      <td>NICOBARS</td>\n",
       "      <td>2000</td>\n",
       "      <td>Whole Year</td>\n",
       "      <td>Cashewnut</td>\n",
       "      <td>720.0</td>\n",
       "      <td>165.0</td>\n",
       "    </tr>\n",
       "    <tr>\n",
       "      <th>...</th>\n",
       "      <td>...</td>\n",
       "      <td>...</td>\n",
       "      <td>...</td>\n",
       "      <td>...</td>\n",
       "      <td>...</td>\n",
       "      <td>...</td>\n",
       "      <td>...</td>\n",
       "    </tr>\n",
       "    <tr>\n",
       "      <th>246086</th>\n",
       "      <td>West Bengal</td>\n",
       "      <td>PURULIA</td>\n",
       "      <td>2014</td>\n",
       "      <td>Summer</td>\n",
       "      <td>Rice</td>\n",
       "      <td>306.0</td>\n",
       "      <td>801.0</td>\n",
       "    </tr>\n",
       "    <tr>\n",
       "      <th>246087</th>\n",
       "      <td>West Bengal</td>\n",
       "      <td>PURULIA</td>\n",
       "      <td>2014</td>\n",
       "      <td>Summer</td>\n",
       "      <td>Sesamum</td>\n",
       "      <td>627.0</td>\n",
       "      <td>463.0</td>\n",
       "    </tr>\n",
       "    <tr>\n",
       "      <th>246088</th>\n",
       "      <td>West Bengal</td>\n",
       "      <td>PURULIA</td>\n",
       "      <td>2014</td>\n",
       "      <td>Whole Year</td>\n",
       "      <td>Sugarcane</td>\n",
       "      <td>324.0</td>\n",
       "      <td>16250.0</td>\n",
       "    </tr>\n",
       "    <tr>\n",
       "      <th>246089</th>\n",
       "      <td>West Bengal</td>\n",
       "      <td>PURULIA</td>\n",
       "      <td>2014</td>\n",
       "      <td>Winter</td>\n",
       "      <td>Rice</td>\n",
       "      <td>279151.0</td>\n",
       "      <td>597899.0</td>\n",
       "    </tr>\n",
       "    <tr>\n",
       "      <th>246090</th>\n",
       "      <td>West Bengal</td>\n",
       "      <td>PURULIA</td>\n",
       "      <td>2014</td>\n",
       "      <td>Winter</td>\n",
       "      <td>Sesamum</td>\n",
       "      <td>175.0</td>\n",
       "      <td>88.0</td>\n",
       "    </tr>\n",
       "  </tbody>\n",
       "</table>\n",
       "<p>246091 rows × 7 columns</p>\n",
       "</div>"
      ],
      "text/plain": [
       "                         State_Name District_Name  Crop_Year       Season  \\\n",
       "0       Andaman and Nicobar Islands      NICOBARS       2000  Kharif        \n",
       "1       Andaman and Nicobar Islands      NICOBARS       2000  Kharif        \n",
       "2       Andaman and Nicobar Islands      NICOBARS       2000  Kharif        \n",
       "3       Andaman and Nicobar Islands      NICOBARS       2000  Whole Year    \n",
       "4       Andaman and Nicobar Islands      NICOBARS       2000  Whole Year    \n",
       "...                             ...           ...        ...          ...   \n",
       "246086                  West Bengal       PURULIA       2014  Summer        \n",
       "246087                  West Bengal       PURULIA       2014  Summer        \n",
       "246088                  West Bengal       PURULIA       2014  Whole Year    \n",
       "246089                  West Bengal       PURULIA       2014  Winter        \n",
       "246090                  West Bengal       PURULIA       2014  Winter        \n",
       "\n",
       "                       Crop      Area  Production  \n",
       "0                  Arecanut    1254.0      2000.0  \n",
       "1       Other Kharif pulses       2.0         1.0  \n",
       "2                      Rice     102.0       321.0  \n",
       "3                    Banana     176.0       641.0  \n",
       "4                 Cashewnut     720.0       165.0  \n",
       "...                     ...       ...         ...  \n",
       "246086                 Rice     306.0       801.0  \n",
       "246087              Sesamum     627.0       463.0  \n",
       "246088            Sugarcane     324.0     16250.0  \n",
       "246089                 Rice  279151.0    597899.0  \n",
       "246090              Sesamum     175.0        88.0  \n",
       "\n",
       "[246091 rows x 7 columns]"
      ]
     },
     "execution_count": 3,
     "metadata": {},
     "output_type": "execute_result"
    }
   ],
   "source": [
    "df"
   ]
  },
  {
   "cell_type": "code",
   "execution_count": 4,
   "id": "1ced421b",
   "metadata": {},
   "outputs": [
    {
     "name": "stdout",
     "output_type": "stream",
     "text": [
      "<class 'pandas.core.frame.DataFrame'>\n",
      "RangeIndex: 246091 entries, 0 to 246090\n",
      "Data columns (total 7 columns):\n",
      " #   Column         Non-Null Count   Dtype  \n",
      "---  ------         --------------   -----  \n",
      " 0   State_Name     246091 non-null  object \n",
      " 1   District_Name  246091 non-null  object \n",
      " 2   Crop_Year      246091 non-null  int64  \n",
      " 3   Season         246091 non-null  object \n",
      " 4   Crop           246091 non-null  object \n",
      " 5   Area           246091 non-null  float64\n",
      " 6   Production     242361 non-null  float64\n",
      "dtypes: float64(2), int64(1), object(4)\n",
      "memory usage: 13.1+ MB\n"
     ]
    }
   ],
   "source": [
    "df.info()"
   ]
  },
  {
   "cell_type": "code",
   "execution_count": 5,
   "id": "0f8d79c0",
   "metadata": {},
   "outputs": [
    {
     "data": {
      "text/plain": [
       "1722637"
      ]
     },
     "execution_count": 5,
     "metadata": {},
     "output_type": "execute_result"
    }
   ],
   "source": [
    "df.size"
   ]
  },
  {
   "cell_type": "code",
   "execution_count": 6,
   "id": "6c8de61c",
   "metadata": {},
   "outputs": [
    {
     "data": {
      "text/plain": [
       "(246091, 7)"
      ]
     },
     "execution_count": 6,
     "metadata": {},
     "output_type": "execute_result"
    }
   ],
   "source": [
    "df.shape"
   ]
  },
  {
   "cell_type": "code",
   "execution_count": 7,
   "id": "0558f0df",
   "metadata": {},
   "outputs": [
    {
     "data": {
      "text/plain": [
       "State_Name          0\n",
       "District_Name       0\n",
       "Crop_Year           0\n",
       "Season              0\n",
       "Crop                0\n",
       "Area                0\n",
       "Production       3730\n",
       "dtype: int64"
      ]
     },
     "execution_count": 7,
     "metadata": {},
     "output_type": "execute_result"
    }
   ],
   "source": [
    "df.isnull().sum()"
   ]
  },
  {
   "cell_type": "code",
   "execution_count": 8,
   "id": "b70c959c",
   "metadata": {},
   "outputs": [],
   "source": [
    "df['Production'] = df['Production'].dropna()"
   ]
  },
  {
   "cell_type": "code",
   "execution_count": 9,
   "id": "20a3aa8b",
   "metadata": {},
   "outputs": [
    {
     "data": {
      "text/plain": [
       "State_Name          0\n",
       "District_Name       0\n",
       "Crop_Year           0\n",
       "Season              0\n",
       "Crop                0\n",
       "Area                0\n",
       "Production       3730\n",
       "dtype: int64"
      ]
     },
     "execution_count": 9,
     "metadata": {},
     "output_type": "execute_result"
    }
   ],
   "source": [
    "df.isnull().sum()"
   ]
  },
  {
   "cell_type": "code",
   "execution_count": 10,
   "id": "b56ade14",
   "metadata": {},
   "outputs": [
    {
     "data": {
      "text/plain": [
       "0         False\n",
       "1         False\n",
       "2         False\n",
       "3         False\n",
       "4         False\n",
       "          ...  \n",
       "246086    False\n",
       "246087    False\n",
       "246088    False\n",
       "246089    False\n",
       "246090    False\n",
       "Length: 246091, dtype: bool"
      ]
     },
     "execution_count": 10,
     "metadata": {},
     "output_type": "execute_result"
    }
   ],
   "source": [
    "df.duplicated()"
   ]
  },
  {
   "cell_type": "code",
   "execution_count": 11,
   "id": "021dc677",
   "metadata": {},
   "outputs": [
    {
     "data": {
      "text/html": [
       "<div>\n",
       "<style scoped>\n",
       "    .dataframe tbody tr th:only-of-type {\n",
       "        vertical-align: middle;\n",
       "    }\n",
       "\n",
       "    .dataframe tbody tr th {\n",
       "        vertical-align: top;\n",
       "    }\n",
       "\n",
       "    .dataframe thead th {\n",
       "        text-align: right;\n",
       "    }\n",
       "</style>\n",
       "<table border=\"1\" class=\"dataframe\">\n",
       "  <thead>\n",
       "    <tr style=\"text-align: right;\">\n",
       "      <th></th>\n",
       "      <th>Crop_Year</th>\n",
       "      <th>Area</th>\n",
       "      <th>Production</th>\n",
       "    </tr>\n",
       "  </thead>\n",
       "  <tbody>\n",
       "    <tr>\n",
       "      <th>count</th>\n",
       "      <td>246091.000000</td>\n",
       "      <td>2.460910e+05</td>\n",
       "      <td>2.423610e+05</td>\n",
       "    </tr>\n",
       "    <tr>\n",
       "      <th>mean</th>\n",
       "      <td>2005.643018</td>\n",
       "      <td>1.200282e+04</td>\n",
       "      <td>5.825034e+05</td>\n",
       "    </tr>\n",
       "    <tr>\n",
       "      <th>std</th>\n",
       "      <td>4.952164</td>\n",
       "      <td>5.052340e+04</td>\n",
       "      <td>1.706581e+07</td>\n",
       "    </tr>\n",
       "    <tr>\n",
       "      <th>min</th>\n",
       "      <td>1997.000000</td>\n",
       "      <td>4.000000e-02</td>\n",
       "      <td>0.000000e+00</td>\n",
       "    </tr>\n",
       "    <tr>\n",
       "      <th>25%</th>\n",
       "      <td>2002.000000</td>\n",
       "      <td>8.000000e+01</td>\n",
       "      <td>8.800000e+01</td>\n",
       "    </tr>\n",
       "    <tr>\n",
       "      <th>50%</th>\n",
       "      <td>2006.000000</td>\n",
       "      <td>5.820000e+02</td>\n",
       "      <td>7.290000e+02</td>\n",
       "    </tr>\n",
       "    <tr>\n",
       "      <th>75%</th>\n",
       "      <td>2010.000000</td>\n",
       "      <td>4.392000e+03</td>\n",
       "      <td>7.023000e+03</td>\n",
       "    </tr>\n",
       "    <tr>\n",
       "      <th>max</th>\n",
       "      <td>2015.000000</td>\n",
       "      <td>8.580100e+06</td>\n",
       "      <td>1.250800e+09</td>\n",
       "    </tr>\n",
       "  </tbody>\n",
       "</table>\n",
       "</div>"
      ],
      "text/plain": [
       "           Crop_Year          Area    Production\n",
       "count  246091.000000  2.460910e+05  2.423610e+05\n",
       "mean     2005.643018  1.200282e+04  5.825034e+05\n",
       "std         4.952164  5.052340e+04  1.706581e+07\n",
       "min      1997.000000  4.000000e-02  0.000000e+00\n",
       "25%      2002.000000  8.000000e+01  8.800000e+01\n",
       "50%      2006.000000  5.820000e+02  7.290000e+02\n",
       "75%      2010.000000  4.392000e+03  7.023000e+03\n",
       "max      2015.000000  8.580100e+06  1.250800e+09"
      ]
     },
     "execution_count": 11,
     "metadata": {},
     "output_type": "execute_result"
    }
   ],
   "source": [
    "df.describe()"
   ]
  },
  {
   "cell_type": "code",
   "execution_count": 12,
   "id": "90cc8fce",
   "metadata": {},
   "outputs": [
    {
     "name": "stderr",
     "output_type": "stream",
     "text": [
      "C:\\Users\\akkar\\AppData\\Local\\Temp\\ipykernel_12752\\1134722465.py:1: FutureWarning: The default value of numeric_only in DataFrame.corr is deprecated. In a future version, it will default to False. Select only valid columns or specify the value of numeric_only to silence this warning.\n",
      "  df.corr()\n"
     ]
    },
    {
     "data": {
      "text/html": [
       "<div>\n",
       "<style scoped>\n",
       "    .dataframe tbody tr th:only-of-type {\n",
       "        vertical-align: middle;\n",
       "    }\n",
       "\n",
       "    .dataframe tbody tr th {\n",
       "        vertical-align: top;\n",
       "    }\n",
       "\n",
       "    .dataframe thead th {\n",
       "        text-align: right;\n",
       "    }\n",
       "</style>\n",
       "<table border=\"1\" class=\"dataframe\">\n",
       "  <thead>\n",
       "    <tr style=\"text-align: right;\">\n",
       "      <th></th>\n",
       "      <th>Crop_Year</th>\n",
       "      <th>Area</th>\n",
       "      <th>Production</th>\n",
       "    </tr>\n",
       "  </thead>\n",
       "  <tbody>\n",
       "    <tr>\n",
       "      <th>Crop_Year</th>\n",
       "      <td>1.000000</td>\n",
       "      <td>-0.026022</td>\n",
       "      <td>0.006989</td>\n",
       "    </tr>\n",
       "    <tr>\n",
       "      <th>Area</th>\n",
       "      <td>-0.026022</td>\n",
       "      <td>1.000000</td>\n",
       "      <td>0.040587</td>\n",
       "    </tr>\n",
       "    <tr>\n",
       "      <th>Production</th>\n",
       "      <td>0.006989</td>\n",
       "      <td>0.040587</td>\n",
       "      <td>1.000000</td>\n",
       "    </tr>\n",
       "  </tbody>\n",
       "</table>\n",
       "</div>"
      ],
      "text/plain": [
       "            Crop_Year      Area  Production\n",
       "Crop_Year    1.000000 -0.026022    0.006989\n",
       "Area        -0.026022  1.000000    0.040587\n",
       "Production   0.006989  0.040587    1.000000"
      ]
     },
     "execution_count": 12,
     "metadata": {},
     "output_type": "execute_result"
    }
   ],
   "source": [
    "df.corr()"
   ]
  },
  {
   "cell_type": "markdown",
   "id": "b18987d3",
   "metadata": {},
   "source": [
    "### Features and Target\n",
    "features = ['Area']  \n",
    "\n",
    "target = 'Production'\n"
   ]
  },
  {
   "cell_type": "code",
   "execution_count": 13,
   "id": "d00896c6",
   "metadata": {},
   "outputs": [
    {
     "data": {
      "image/png": "[encoded data removed]",
      "text/plain": [
       "<Figure size 640x480 with 1 Axes>"
      ]
     },
     "metadata": {},
     "output_type": "display_data"
    },
    {
     "data": {
      "text/plain": [
       "<Figure size 640x480 with 0 Axes>"
      ]
     },
     "metadata": {},
     "output_type": "display_data"
    }
   ],
   "source": [
    "plt.scatter(df['Area'],df['Production'])\n",
    "\n",
    "plt.xlabel(\"Area\")\n",
    "plt.ylabel(\"Production\")\n",
    "\n",
    "plt.legend([\"Line1\"],loc='best')\n",
    "\n",
    "plt.grid(True,color=\"yellow\",linestyle=\"--\",linewidth=0.4)\n",
    "\n",
    "plt.title(\"Scatter plot : Area Vs Production\")\n",
    "\n",
    "plt.show()\n",
    "\n",
    "plt.savefig(\"scatterplot.png\")"
   ]
  },
  {
   "cell_type": "code",
   "execution_count": 14,
   "id": "db4aea84",
   "metadata": {},
   "outputs": [
    {
     "data": {
      "image/png": "[encoded data removed]",
      "text/plain": [
       "<Figure size 500x300 with 1 Axes>"
      ]
     },
     "metadata": {},
     "output_type": "display_data"
    }
   ],
   "source": [
    "plt.figure(figsize=(5,3))\n",
    "\n",
    "sns.boxplot(df['Area'],showmeans=True)\n",
    "\n",
    "plt.title(\"Box plot : Area \")\n",
    "\n",
    "plt.show()"
   ]
  },
  {
   "cell_type": "code",
   "execution_count": 15,
   "id": "d828e1ec",
   "metadata": {},
   "outputs": [
    {
     "data": {
      "image/png": "[encoded data removed]",
      "text/plain": [
       "<Figure size 500x300 with 1 Axes>"
      ]
     },
     "metadata": {},
     "output_type": "display_data"
    }
   ],
   "source": [
    "plt.figure(figsize=(5, 3))\n",
    "\n",
    "sns.boxplot(df['Production'])\n",
    "\n",
    "plt.title('Boxplot : Production')\n",
    "\n",
    "plt.show()"
   ]
  },
  {
   "cell_type": "code",
   "execution_count": 16,
   "id": "e6d35520",
   "metadata": {},
   "outputs": [],
   "source": [
    "df=df.dropna()"
   ]
  },
  {
   "cell_type": "code",
   "execution_count": 17,
   "id": "e77835a3",
   "metadata": {},
   "outputs": [
    {
     "data": {
      "text/plain": [
       "(242361, 7)"
      ]
     },
     "execution_count": 17,
     "metadata": {},
     "output_type": "execute_result"
    }
   ],
   "source": [
    "df.shape"
   ]
  },
  {
   "cell_type": "code",
   "execution_count": 18,
   "id": "65521a97",
   "metadata": {},
   "outputs": [
    {
     "name": "stdout",
     "output_type": "stream",
     "text": [
      "88.0\n",
      "7023.0\n",
      "6935.0\n"
     ]
    }
   ],
   "source": [
    "Q1 = df.Production.quantile(0.25)\n",
    "print(Q1)\n",
    "Q3 = df.Production.quantile(0.75)\n",
    "print(Q3)\n",
    "IQR = Q3 - Q1\n",
    "print(IQR)"
   ]
  },
  {
   "cell_type": "code",
   "execution_count": 19,
   "id": "365ea52b",
   "metadata": {},
   "outputs": [
    {
     "name": "stdout",
     "output_type": "stream",
     "text": [
      "-10314.5\n",
      "17425.5\n"
     ]
    }
   ],
   "source": [
    "lower_bound = Q1 - 1.5 * IQR\n",
    "print(lower_bound)\n",
    "\n",
    "upper_bound = Q3 + 1.5 * IQR\n",
    "print(upper_bound)"
   ]
  },
  {
   "cell_type": "code",
   "execution_count": 20,
   "id": "1fcc7605",
   "metadata": {},
   "outputs": [
    {
     "data": {
      "text/html": [
       "<div>\n",
       "<style scoped>\n",
       "    .dataframe tbody tr th:only-of-type {\n",
       "        vertical-align: middle;\n",
       "    }\n",
       "\n",
       "    .dataframe tbody tr th {\n",
       "        vertical-align: top;\n",
       "    }\n",
       "\n",
       "    .dataframe thead th {\n",
       "        text-align: right;\n",
       "    }\n",
       "</style>\n",
       "<table border=\"1\" class=\"dataframe\">\n",
       "  <thead>\n",
       "    <tr style=\"text-align: right;\">\n",
       "      <th></th>\n",
       "      <th>State_Name</th>\n",
       "      <th>District_Name</th>\n",
       "      <th>Crop_Year</th>\n",
       "      <th>Season</th>\n",
       "      <th>Crop</th>\n",
       "      <th>Area</th>\n",
       "      <th>Production</th>\n",
       "    </tr>\n",
       "  </thead>\n",
       "  <tbody>\n",
       "    <tr>\n",
       "      <th>0</th>\n",
       "      <td>Andaman and Nicobar Islands</td>\n",
       "      <td>NICOBARS</td>\n",
       "      <td>2000</td>\n",
       "      <td>Kharif</td>\n",
       "      <td>Arecanut</td>\n",
       "      <td>1254.0</td>\n",
       "      <td>2000.0</td>\n",
       "    </tr>\n",
       "    <tr>\n",
       "      <th>1</th>\n",
       "      <td>Andaman and Nicobar Islands</td>\n",
       "      <td>NICOBARS</td>\n",
       "      <td>2000</td>\n",
       "      <td>Kharif</td>\n",
       "      <td>Other Kharif pulses</td>\n",
       "      <td>2.0</td>\n",
       "      <td>1.0</td>\n",
       "    </tr>\n",
       "    <tr>\n",
       "      <th>2</th>\n",
       "      <td>Andaman and Nicobar Islands</td>\n",
       "      <td>NICOBARS</td>\n",
       "      <td>2000</td>\n",
       "      <td>Kharif</td>\n",
       "      <td>Rice</td>\n",
       "      <td>102.0</td>\n",
       "      <td>321.0</td>\n",
       "    </tr>\n",
       "    <tr>\n",
       "      <th>3</th>\n",
       "      <td>Andaman and Nicobar Islands</td>\n",
       "      <td>NICOBARS</td>\n",
       "      <td>2000</td>\n",
       "      <td>Whole Year</td>\n",
       "      <td>Banana</td>\n",
       "      <td>176.0</td>\n",
       "      <td>641.0</td>\n",
       "    </tr>\n",
       "    <tr>\n",
       "      <th>4</th>\n",
       "      <td>Andaman and Nicobar Islands</td>\n",
       "      <td>NICOBARS</td>\n",
       "      <td>2000</td>\n",
       "      <td>Whole Year</td>\n",
       "      <td>Cashewnut</td>\n",
       "      <td>720.0</td>\n",
       "      <td>165.0</td>\n",
       "    </tr>\n",
       "    <tr>\n",
       "      <th>...</th>\n",
       "      <td>...</td>\n",
       "      <td>...</td>\n",
       "      <td>...</td>\n",
       "      <td>...</td>\n",
       "      <td>...</td>\n",
       "      <td>...</td>\n",
       "      <td>...</td>\n",
       "    </tr>\n",
       "    <tr>\n",
       "      <th>246085</th>\n",
       "      <td>West Bengal</td>\n",
       "      <td>PURULIA</td>\n",
       "      <td>2014</td>\n",
       "      <td>Summer</td>\n",
       "      <td>Maize</td>\n",
       "      <td>325.0</td>\n",
       "      <td>2039.0</td>\n",
       "    </tr>\n",
       "    <tr>\n",
       "      <th>246086</th>\n",
       "      <td>West Bengal</td>\n",
       "      <td>PURULIA</td>\n",
       "      <td>2014</td>\n",
       "      <td>Summer</td>\n",
       "      <td>Rice</td>\n",
       "      <td>306.0</td>\n",
       "      <td>801.0</td>\n",
       "    </tr>\n",
       "    <tr>\n",
       "      <th>246087</th>\n",
       "      <td>West Bengal</td>\n",
       "      <td>PURULIA</td>\n",
       "      <td>2014</td>\n",
       "      <td>Summer</td>\n",
       "      <td>Sesamum</td>\n",
       "      <td>627.0</td>\n",
       "      <td>463.0</td>\n",
       "    </tr>\n",
       "    <tr>\n",
       "      <th>246088</th>\n",
       "      <td>West Bengal</td>\n",
       "      <td>PURULIA</td>\n",
       "      <td>2014</td>\n",
       "      <td>Whole Year</td>\n",
       "      <td>Sugarcane</td>\n",
       "      <td>324.0</td>\n",
       "      <td>16250.0</td>\n",
       "    </tr>\n",
       "    <tr>\n",
       "      <th>246090</th>\n",
       "      <td>West Bengal</td>\n",
       "      <td>PURULIA</td>\n",
       "      <td>2014</td>\n",
       "      <td>Winter</td>\n",
       "      <td>Sesamum</td>\n",
       "      <td>175.0</td>\n",
       "      <td>88.0</td>\n",
       "    </tr>\n",
       "  </tbody>\n",
       "</table>\n",
       "<p>199971 rows × 7 columns</p>\n",
       "</div>"
      ],
      "text/plain": [
       "                         State_Name District_Name  Crop_Year       Season  \\\n",
       "0       Andaman and Nicobar Islands      NICOBARS       2000  Kharif        \n",
       "1       Andaman and Nicobar Islands      NICOBARS       2000  Kharif        \n",
       "2       Andaman and Nicobar Islands      NICOBARS       2000  Kharif        \n",
       "3       Andaman and Nicobar Islands      NICOBARS       2000  Whole Year    \n",
       "4       Andaman and Nicobar Islands      NICOBARS       2000  Whole Year    \n",
       "...                             ...           ...        ...          ...   \n",
       "246085                  West Bengal       PURULIA       2014  Summer        \n",
       "246086                  West Bengal       PURULIA       2014  Summer        \n",
       "246087                  West Bengal       PURULIA       2014  Summer        \n",
       "246088                  West Bengal       PURULIA       2014  Whole Year    \n",
       "246090                  West Bengal       PURULIA       2014  Winter        \n",
       "\n",
       "                       Crop    Area  Production  \n",
       "0                  Arecanut  1254.0      2000.0  \n",
       "1       Other Kharif pulses     2.0         1.0  \n",
       "2                      Rice   102.0       321.0  \n",
       "3                    Banana   176.0       641.0  \n",
       "4                 Cashewnut   720.0       165.0  \n",
       "...                     ...     ...         ...  \n",
       "246085                Maize   325.0      2039.0  \n",
       "246086                 Rice   306.0       801.0  \n",
       "246087              Sesamum   627.0       463.0  \n",
       "246088            Sugarcane   324.0     16250.0  \n",
       "246090              Sesamum   175.0        88.0  \n",
       "\n",
       "[199971 rows x 7 columns]"
      ]
     },
     "execution_count": 20,
     "metadata": {},
     "output_type": "execute_result"
    }
   ],
   "source": [
    "filtered_df = df[(df['Production'] >= lower_bound) & (df['Production'] <= upper_bound)]\n",
    "filtered_df"
   ]
  },
  {
   "cell_type": "code",
   "execution_count": 21,
   "id": "8245a21f",
   "metadata": {},
   "outputs": [
    {
     "data": {
      "image/png": "[encoded data removed]",
      "text/plain": [
       "<Figure size 500x300 with 1 Axes>"
      ]
     },
     "metadata": {},
     "output_type": "display_data"
    }
   ],
   "source": [
    "plt.figure(figsize=(5, 3))\n",
    "\n",
    "sns.boxplot(filtered_df['Production'])\n",
    "\n",
    "plt.title('Boxplot : Production')\n",
    "\n",
    "plt.show()"
   ]
  },
  {
   "cell_type": "code",
   "execution_count": 22,
   "id": "29ee0a99",
   "metadata": {},
   "outputs": [
    {
     "data": {
      "text/plain": [
       "Index(['State_Name', 'District_Name', 'Crop_Year', 'Season', 'Crop', 'Area',\n",
       "       'Production'],\n",
       "      dtype='object')"
      ]
     },
     "execution_count": 22,
     "metadata": {},
     "output_type": "execute_result"
    }
   ],
   "source": [
    "df.columns"
   ]
  },
  {
   "cell_type": "code",
   "execution_count": 23,
   "id": "c1407207",
   "metadata": {},
   "outputs": [
    {
     "name": "stdout",
     "output_type": "stream",
     "text": [
      "['Andaman and Nicobar Islands' 'Andhra Pradesh' 'Arunachal Pradesh'\n",
      " 'Assam' 'Bihar' 'Chandigarh' 'Chhattisgarh' 'Dadra and Nagar Haveli'\n",
      " 'Goa' 'Gujarat' 'Haryana' 'Himachal Pradesh' 'Jammu and Kashmir '\n",
      " 'Jharkhand' 'Karnataka' 'Kerala' 'Madhya Pradesh' 'Maharashtra' 'Manipur'\n",
      " 'Meghalaya' 'Mizoram' 'Nagaland' 'Odisha' 'Puducherry' 'Punjab'\n",
      " 'Rajasthan' 'Sikkim' 'Tamil Nadu' 'Telangana ' 'Tripura' 'Uttar Pradesh'\n",
      " 'Uttarakhand' 'West Bengal']\n",
      "['24 PARAGANAS NORTH' '24 PARAGANAS SOUTH' 'ADILABAD' 'AGAR MALWA' 'AGRA'\n",
      " 'AHMADABAD' 'AHMEDNAGAR' 'AIZAWL' 'AJMER' 'AKOLA' 'ALAPPUZHA' 'ALIGARH'\n",
      " 'ALIRAJPUR' 'ALLAHABAD' 'ALMORA' 'ALWAR' 'AMBALA' 'AMBEDKAR NAGAR'\n",
      " 'AMETHI' 'AMRAVATI' 'AMRELI' 'AMRITSAR' 'AMROHA' 'ANAND' 'ANANTAPUR'\n",
      " 'ANANTNAG' 'ANJAW' 'ANUGUL' 'ANUPPUR' 'ARARIA' 'ARIYALUR' 'ARWAL'\n",
      " 'ASHOKNAGAR' 'AURAIYA' 'AURANGABAD' 'AZAMGARH' 'BADGAM' 'BAGALKOT'\n",
      " 'BAGESHWAR' 'BAGHPAT' 'BAHRAICH' 'BAKSA' 'BALAGHAT' 'BALANGIR'\n",
      " 'BALESHWAR' 'BALLIA' 'BALOD' 'BALODA BAZAR' 'BALRAMPUR' 'BANAS KANTHA'\n",
      " 'BANDA' 'BANDIPORA' 'BANGALORE RURAL' 'BANKA' 'BANKURA' 'BANSWARA'\n",
      " 'BARABANKI' 'BARAMULLA' 'BARAN' 'BARDHAMAN' 'BAREILLY' 'BARGARH' 'BARMER'\n",
      " 'BARNALA' 'BARPETA' 'BARWANI' 'BASTAR' 'BASTI' 'BATHINDA' 'BEED'\n",
      " 'BEGUSARAI' 'BELGAUM' 'BELLARY' 'BEMETARA' 'BENGALURU URBAN' 'BETUL'\n",
      " 'BHADRAK' 'BHAGALPUR' 'BHANDARA' 'BHARATPUR' 'BHARUCH' 'BHAVNAGAR'\n",
      " 'BHILWARA' 'BHIND' 'BHIWANI' 'BHOJPUR' 'BHOPAL' 'BIDAR' 'BIJAPUR'\n",
      " 'BIJNOR' 'BIKANER' 'BILASPUR' 'BIRBHUM' 'BISHNUPUR' 'BOKARO' 'BONGAIGAON'\n",
      " 'BOUDH' 'BUDAUN' 'BULANDSHAHR' 'BULDHANA' 'BUNDI' 'BURHANPUR' 'BUXAR'\n",
      " 'CACHAR' 'CHAMARAJANAGAR' 'CHAMBA' 'CHAMOLI' 'CHAMPAWAT' 'CHAMPHAI'\n",
      " 'CHANDAULI' 'CHANDEL' 'CHANDIGARH' 'CHANDRAPUR' 'CHANGLANG' 'CHATRA'\n",
      " 'CHHATARPUR' 'CHHINDWARA' 'CHIKBALLAPUR' 'CHIKMAGALUR' 'CHIRANG'\n",
      " 'CHITRADURGA' 'CHITRAKOOT' 'CHITTOOR' 'CHITTORGARH' 'CHURACHANDPUR'\n",
      " 'CHURU' 'COIMBATORE' 'COOCHBEHAR' 'CUDDALORE' 'CUTTACK'\n",
      " 'DADRA AND NAGAR HAVELI' 'DAKSHIN KANNAD' 'DAMOH' 'DANG' 'DANTEWADA'\n",
      " 'DARBHANGA' 'DARJEELING' 'DARRANG' 'DATIA' 'DAUSA' 'DAVANGERE' 'DEHRADUN'\n",
      " 'DEOGARH' 'DEOGHAR' 'DEORIA' 'DEWAS' 'DHALAI' 'DHAMTARI' 'DHANBAD' 'DHAR'\n",
      " 'DHARMAPURI' 'DHARWAD' 'DHEMAJI' 'DHENKANAL' 'DHOLPUR' 'DHUBRI' 'DHULE'\n",
      " 'DIBANG VALLEY' 'DIBRUGARH' 'DIMA HASAO' 'DIMAPUR' 'DINAJPUR DAKSHIN'\n",
      " 'DINAJPUR UTTAR' 'DINDIGUL' 'DINDORI' 'DODA' 'DOHAD' 'DUMKA' 'DUNGARPUR'\n",
      " 'DURG' 'EAST DISTRICT' 'EAST GARO HILLS' 'EAST GODAVARI'\n",
      " 'EAST JAINTIA HILLS' 'EAST KAMENG' 'EAST KHASI HILLS' 'EAST SIANG'\n",
      " 'EAST SINGHBUM' 'ERNAKULAM' 'ERODE' 'ETAH' 'ETAWAH' 'FAIZABAD'\n",
      " 'FARIDABAD' 'FARIDKOT' 'FARRUKHABAD' 'FATEHABAD' 'FATEHGARH SAHIB'\n",
      " 'FATEHPUR' 'FAZILKA' 'FIROZABAD' 'FIROZEPUR' 'GADAG' 'GADCHIROLI'\n",
      " 'GAJAPATI' 'GANDERBAL' 'GANDHINAGAR' 'GANGANAGAR' 'GANJAM' 'GARHWA'\n",
      " 'GARIYABAND' 'GAUTAM BUDDHA NAGAR' 'GAYA' 'GHAZIABAD' 'GHAZIPUR'\n",
      " 'GIRIDIH' 'GOALPARA' 'GODDA' 'GOLAGHAT' 'GOMATI' 'GONDA' 'GONDIA'\n",
      " 'GOPALGANJ' 'GORAKHPUR' 'GULBARGA' 'GUMLA' 'GUNA' 'GUNTUR' 'GURDASPUR'\n",
      " 'GURGAON' 'GWALIOR' 'HAILAKANDI' 'HAMIRPUR' 'HANUMANGARH' 'HAPUR' 'HARDA'\n",
      " 'HARDOI' 'HARIDWAR' 'HASSAN' 'HATHRAS' 'HAVERI' 'HAZARIBAGH' 'HINGOLI'\n",
      " 'HISAR' 'HOOGHLY' 'HOSHANGABAD' 'HOSHIARPUR' 'HOWRAH' 'HYDERABAD'\n",
      " 'IDUKKI' 'IMPHAL EAST' 'IMPHAL WEST' 'INDORE' 'JABALPUR' 'JAGATSINGHAPUR'\n",
      " 'JAIPUR' 'JAISALMER' 'JAJAPUR' 'JALANDHAR' 'JALAUN' 'JALGAON' 'JALNA'\n",
      " 'JALORE' 'JALPAIGURI' 'JAMMU' 'JAMNAGAR' 'JAMTARA' 'JAMUI'\n",
      " 'JANJGIR-CHAMPA' 'JASHPUR' 'JAUNPUR' 'JEHANABAD' 'JHABUA' 'JHAJJAR'\n",
      " 'JHALAWAR' 'JHANSI' 'JHARSUGUDA' 'JHUNJHUNU' 'JIND' 'JODHPUR' 'JORHAT'\n",
      " 'JUNAGADH' 'KABIRDHAM' 'KACHCHH' 'KADAPA' 'KAIMUR (BHABUA)' 'KAITHAL'\n",
      " 'KALAHANDI' 'KAMRUP' 'KAMRUP METRO' 'KANCHIPURAM' 'KANDHAMAL' 'KANGRA'\n",
      " 'KANKER' 'KANNAUJ' 'KANNIYAKUMARI' 'KANNUR' 'KANPUR DEHAT' 'KANPUR NAGAR'\n",
      " 'KAPURTHALA' 'KARAIKAL' 'KARAULI' 'KARBI ANGLONG' 'KARGIL' 'KARIMGANJ'\n",
      " 'KARIMNAGAR' 'KARNAL' 'KARUR' 'KASARAGOD' 'KASGANJ' 'KATHUA' 'KATIHAR'\n",
      " 'KATNI' 'KAUSHAMBI' 'KENDRAPARA' 'KENDUJHAR' 'KHAGARIA' 'KHAMMAM'\n",
      " 'KHANDWA' 'KHARGONE' 'KHEDA' 'KHERI' 'KHORDHA' 'KHOWAI' 'KHUNTI'\n",
      " 'KINNAUR' 'KIPHIRE' 'KISHANGANJ' 'KISHTWAR' 'KODAGU' 'KODERMA' 'KOHIMA'\n",
      " 'KOKRAJHAR' 'KOLAR' 'KOLASIB' 'KOLHAPUR' 'KOLLAM' 'KONDAGAON' 'KOPPAL'\n",
      " 'KORAPUT' 'KORBA' 'KOREA' 'KOTA' 'KOTTAYAM' 'KOZHIKODE' 'KRISHNA'\n",
      " 'KRISHNAGIRI' 'KULGAM' 'KULLU' 'KUPWARA' 'KURNOOL' 'KURUKSHETRA'\n",
      " 'KURUNG KUMEY' 'KUSHI NAGAR' 'LAHUL AND SPITI' 'LAKHIMPUR' 'LAKHISARAI'\n",
      " 'LALITPUR' 'LATEHAR' 'LATUR' 'LAWNGTLAI' 'LEH LADAKH' 'LOHARDAGA' 'LOHIT'\n",
      " 'LONGDING' 'LONGLENG' 'LOWER DIBANG VALLEY' 'LOWER SUBANSIRI' 'LUCKNOW'\n",
      " 'LUDHIANA' 'LUNGLEI' 'MADHEPURA' 'MADHUBANI' 'MADURAI' 'MAHARAJGANJ'\n",
      " 'MAHASAMUND' 'MAHBUBNAGAR' 'MAHE' 'MAHENDRAGARH' 'MAHESANA' 'MAHOBA'\n",
      " 'MAINPURI' 'MALAPPURAM' 'MALDAH' 'MALKANGIRI' 'MAMIT' 'MANDI' 'MANDLA'\n",
      " 'MANDSAUR' 'MANDYA' 'MANSA' 'MARIGAON' 'MATHURA' 'MAU' 'MAYURBHANJ'\n",
      " 'MEDAK' 'MEDINIPUR EAST' 'MEDINIPUR WEST' 'MEERUT' 'MEWAT' 'MIRZAPUR'\n",
      " 'MOGA' 'MOKOKCHUNG' 'MON' 'MORADABAD' 'MORENA' 'MUKTSAR' 'MUMBAI'\n",
      " 'MUNGELI' 'MUNGER' 'MURSHIDABAD' 'MUZAFFARNAGAR' 'MUZAFFARPUR' 'MYSORE'\n",
      " 'NABARANGPUR' 'NADIA' 'NAGAON' 'NAGAPATTINAM' 'NAGAUR' 'NAGPUR'\n",
      " 'NAINITAL' 'NALANDA' 'NALBARI' 'NALGONDA' 'NAMAKKAL' 'NAMSAI' 'NANDED'\n",
      " 'NANDURBAR' 'NARAYANPUR' 'NARMADA' 'NARSINGHPUR' 'NASHIK' 'NAVSARI'\n",
      " 'NAWADA' 'NAWANSHAHR' 'NAYAGARH' 'NEEMUCH' 'NICOBARS' 'NIZAMABAD'\n",
      " 'NORTH AND MIDDLE ANDAMAN' 'NORTH DISTRICT' 'NORTH GARO HILLS'\n",
      " 'NORTH GOA' 'NORTH TRIPURA' 'NUAPADA' 'OSMANABAD' 'PAKUR' 'PALAKKAD'\n",
      " 'PALAMU' 'PALGHAR' 'PALI' 'PALWAL' 'PANCH MAHALS' 'PANCHKULA' 'PANIPAT'\n",
      " 'PANNA' 'PAPUM PARE' 'PARBHANI' 'PASHCHIM CHAMPARAN' 'PATAN'\n",
      " 'PATHANAMTHITTA' 'PATHANKOT' 'PATIALA' 'PATNA' 'PAURI GARHWAL'\n",
      " 'PERAMBALUR' 'PEREN' 'PHEK' 'PILIBHIT' 'PITHORAGARH' 'PONDICHERRY'\n",
      " 'POONCH' 'PORBANDAR' 'PRAKASAM' 'PRATAPGARH' 'PUDUKKOTTAI' 'PULWAMA'\n",
      " 'PUNE' 'PURBI CHAMPARAN' 'PURI' 'PURNIA' 'PURULIA' 'RAE BARELI' 'RAICHUR'\n",
      " 'RAIGAD' 'RAIGARH' 'RAIPUR' 'RAISEN' 'RAJAURI' 'RAJGARH' 'RAJKOT'\n",
      " 'RAJNANDGAON' 'RAJSAMAND' 'RAMANAGARA' 'RAMANATHAPURAM' 'RAMBAN'\n",
      " 'RAMGARH' 'RAMPUR' 'RANCHI' 'RANGAREDDI' 'RATLAM' 'RATNAGIRI' 'RAYAGADA'\n",
      " 'REASI' 'REWA' 'REWARI' 'RI BHOI' 'ROHTAK' 'ROHTAS' 'RUDRA PRAYAG'\n",
      " 'RUPNAGAR' 'S.A.S NAGAR' 'SABAR KANTHA' 'SAGAR' 'SAHARANPUR' 'SAHARSA'\n",
      " 'SAHEBGANJ' 'SAIHA' 'SALEM' 'SAMASTIPUR' 'SAMBA' 'SAMBALPUR' 'SAMBHAL'\n",
      " 'SANGLI' 'SANGRUR' 'SANT KABEER NAGAR' 'SANT RAVIDAS NAGAR'\n",
      " 'SARAIKELA KHARSAWAN' 'SARAN' 'SATARA' 'SATNA' 'SAWAI MADHOPUR' 'SEHORE'\n",
      " 'SENAPATI' 'SEONI' 'SEPAHIJALA' 'SERCHHIP' 'SHAHDOL' 'SHAHJAHANPUR'\n",
      " 'SHAJAPUR' 'SHAMLI' 'SHEIKHPURA' 'SHEOHAR' 'SHEOPUR' 'SHIMLA' 'SHIMOGA'\n",
      " 'SHIVPURI' 'SHOPIAN' 'SHRAVASTI' 'SIDDHARTH NAGAR' 'SIDHI' 'SIKAR'\n",
      " 'SIMDEGA' 'SINDHUDURG' 'SINGRAULI' 'SIRMAUR' 'SIROHI' 'SIRSA' 'SITAMARHI'\n",
      " 'SITAPUR' 'SIVAGANGA' 'SIVASAGAR' 'SIWAN' 'SOLAN' 'SOLAPUR' 'SONBHADRA'\n",
      " 'SONEPUR' 'SONIPAT' 'SONITPUR' 'SOUTH ANDAMANS' 'SOUTH DISTRICT'\n",
      " 'SOUTH GARO HILLS' 'SOUTH GOA' 'SOUTH TRIPURA' 'SOUTH WEST GARO HILLS'\n",
      " 'SOUTH WEST KHASI HILLS' 'SPSR NELLORE' 'SRIKAKULAM' 'SRINAGAR' 'SUKMA'\n",
      " 'SULTANPUR' 'SUNDARGARH' 'SUPAUL' 'SURAJPUR' 'SURAT' 'SURENDRANAGAR'\n",
      " 'SURGUJA' 'TAMENGLONG' 'TAPI' 'TARN TARAN' 'TAWANG' 'TEHRI GARHWAL'\n",
      " 'THANE' 'THANJAVUR' 'THE NILGIRIS' 'THENI' 'THIRUVALLUR'\n",
      " 'THIRUVANANTHAPURAM' 'THIRUVARUR' 'THOUBAL' 'THRISSUR' 'TIKAMGARH'\n",
      " 'TINSUKIA' 'TIRAP' 'TIRUCHIRAPPALLI' 'TIRUNELVELI' 'TIRUPPUR'\n",
      " 'TIRUVANNAMALAI' 'TONK' 'TUENSANG' 'TUMKUR' 'TUTICORIN' 'UDAIPUR'\n",
      " 'UDALGURI' 'UDAM SINGH NAGAR' 'UDHAMPUR' 'UDUPI' 'UJJAIN' 'UKHRUL'\n",
      " 'UMARIA' 'UNA' 'UNAKOTI' 'UNNAO' 'UPPER SIANG' 'UPPER SUBANSIRI'\n",
      " 'UTTAR KANNAD' 'UTTAR KASHI' 'VADODARA' 'VAISHALI' 'VALSAD' 'VARANASI'\n",
      " 'VELLORE' 'VIDISHA' 'VILLUPURAM' 'VIRUDHUNAGAR' 'VISAKHAPATANAM'\n",
      " 'VIZIANAGARAM' 'WARANGAL' 'WARDHA' 'WASHIM' 'WAYANAD' 'WEST DISTRICT'\n",
      " 'WEST GARO HILLS' 'WEST GODAVARI' 'WEST JAINTIA HILLS' 'WEST KAMENG'\n",
      " 'WEST KHASI HILLS' 'WEST SIANG' 'WEST SINGHBHUM' 'WEST TRIPURA' 'WOKHA'\n",
      " 'YADGIR' 'YAMUNANAGAR' 'YANAM' 'YAVATMAL' 'ZUNHEBOTO']\n",
      "['Autumn     ' 'Kharif     ' 'Rabi       ' 'Summer     ' 'Whole Year '\n",
      " 'Winter     ']\n",
      "['Apple' 'Arcanut (Processed)' 'Arecanut' 'Arhar/Tur' 'Ash Gourd'\n",
      " 'Atcanut (Raw)' 'Bajra' 'Banana' 'Barley' 'Bean'\n",
      " 'Beans & Mutter(Vegetable)' 'Beet Root' 'Ber' 'Bhindi' 'Bitter Gourd'\n",
      " 'Black pepper' 'Blackgram' 'Bottle Gourd' 'Brinjal' 'Cabbage' 'Cardamom'\n",
      " 'Carrot' 'Cashewnut' 'Cashewnut Processed' 'Cashewnut Raw' 'Castor seed'\n",
      " 'Cauliflower' 'Citrus Fruit' 'Coconut ' 'Coffee' 'Colocosia'\n",
      " 'Cond-spcs other' 'Coriander' 'Cotton(lint)' 'Cowpea(Lobia)' 'Cucumber'\n",
      " 'Drum Stick' 'Dry chillies' 'Dry ginger' 'Garlic' 'Ginger' 'Gram'\n",
      " 'Grapes' 'Groundnut' 'Guar seed' 'Horse-gram' 'Jack Fruit' 'Jobster'\n",
      " 'Jowar' 'Jute' 'Jute & mesta' 'Kapas' 'Khesari' 'Korra' 'Lab-Lab' 'Lemon'\n",
      " 'Lentil' 'Linseed' 'Litchi' 'Maize' 'Mango' 'Masoor' 'Mesta'\n",
      " 'Moong(Green Gram)' 'Moth' 'Niger seed' 'Oilseeds total' 'Onion' 'Orange'\n",
      " 'Other  Rabi pulses' 'Other Cereals & Millets' 'Other Citrus Fruit'\n",
      " 'Other Dry Fruit' 'Other Fresh Fruits' 'Other Kharif pulses'\n",
      " 'Other Vegetables' 'Paddy' 'Papaya' 'Peach' 'Pear' 'Peas  (vegetable)'\n",
      " 'Peas & beans (Pulses)' 'Perilla' 'Pineapple' 'Plums' 'Pome Fruit'\n",
      " 'Pome Granet' 'Potato' 'Pulses total' 'Pump Kin' 'Ragi' 'Rajmash Kholar'\n",
      " 'Rapeseed &Mustard' 'Redish' 'Ribed Guard' 'Rice' 'Ricebean (nagadal)'\n",
      " 'Rubber' 'Safflower' 'Samai' 'Sannhamp' 'Sapota' 'Sesamum'\n",
      " 'Small millets' 'Snak Guard' 'Soyabean' 'Sugarcane' 'Sunflower'\n",
      " 'Sweet potato' 'Tapioca' 'Tea' 'Tobacco' 'Tomato' 'Total foodgrain'\n",
      " 'Turmeric' 'Turnip' 'Urad' 'Varagu' 'Water Melon' 'Wheat' 'Yam'\n",
      " 'other fibres' 'other misc. pulses' 'other oilseeds']\n"
     ]
    },
    {
     "name": "stderr",
     "output_type": "stream",
     "text": [
      "C:\\Users\\akkar\\AppData\\Local\\Temp\\ipykernel_12752\\4170101988.py:6: SettingWithCopyWarning: \n",
      "A value is trying to be set on a copy of a slice from a DataFrame.\n",
      "Try using .loc[row_indexer,col_indexer] = value instead\n",
      "\n",
      "See the caveats in the documentation: https://pandas.pydata.org/pandas-docs/stable/user_guide/indexing.html#returning-a-view-versus-a-copy\n",
      "  df[i] = le.fit_transform(df[i])\n",
      "C:\\Users\\akkar\\AppData\\Local\\Temp\\ipykernel_12752\\4170101988.py:6: SettingWithCopyWarning: \n",
      "A value is trying to be set on a copy of a slice from a DataFrame.\n",
      "Try using .loc[row_indexer,col_indexer] = value instead\n",
      "\n",
      "See the caveats in the documentation: https://pandas.pydata.org/pandas-docs/stable/user_guide/indexing.html#returning-a-view-versus-a-copy\n",
      "  df[i] = le.fit_transform(df[i])\n",
      "C:\\Users\\akkar\\AppData\\Local\\Temp\\ipykernel_12752\\4170101988.py:6: SettingWithCopyWarning: \n",
      "A value is trying to be set on a copy of a slice from a DataFrame.\n",
      "Try using .loc[row_indexer,col_indexer] = value instead\n",
      "\n",
      "See the caveats in the documentation: https://pandas.pydata.org/pandas-docs/stable/user_guide/indexing.html#returning-a-view-versus-a-copy\n",
      "  df[i] = le.fit_transform(df[i])\n",
      "C:\\Users\\akkar\\AppData\\Local\\Temp\\ipykernel_12752\\4170101988.py:6: SettingWithCopyWarning: \n",
      "A value is trying to be set on a copy of a slice from a DataFrame.\n",
      "Try using .loc[row_indexer,col_indexer] = value instead\n",
      "\n",
      "See the caveats in the documentation: https://pandas.pydata.org/pandas-docs/stable/user_guide/indexing.html#returning-a-view-versus-a-copy\n",
      "  df[i] = le.fit_transform(df[i])\n"
     ]
    }
   ],
   "source": [
    "from sklearn.preprocessing import LabelEncoder\n",
    "le = LabelEncoder()\n",
    "\n",
    "for i in df.columns:\n",
    "    if df[i].dtype == \"object\":\n",
    "        df[i] = le.fit_transform(df[i])\n",
    "        print(le.classes_)"
   ]
  },
  {
   "cell_type": "code",
   "execution_count": 24,
   "id": "5e03b4f0",
   "metadata": {},
   "outputs": [
    {
     "data": {
      "text/html": [
       "<div>\n",
       "<style scoped>\n",
       "    .dataframe tbody tr th:only-of-type {\n",
       "        vertical-align: middle;\n",
       "    }\n",
       "\n",
       "    .dataframe tbody tr th {\n",
       "        vertical-align: top;\n",
       "    }\n",
       "\n",
       "    .dataframe thead th {\n",
       "        text-align: right;\n",
       "    }\n",
       "</style>\n",
       "<table border=\"1\" class=\"dataframe\">\n",
       "  <thead>\n",
       "    <tr style=\"text-align: right;\">\n",
       "      <th></th>\n",
       "      <th>State_Name</th>\n",
       "      <th>District_Name</th>\n",
       "      <th>Crop_Year</th>\n",
       "      <th>Season</th>\n",
       "      <th>Crop</th>\n",
       "      <th>Area</th>\n",
       "      <th>Production</th>\n",
       "    </tr>\n",
       "  </thead>\n",
       "  <tbody>\n",
       "    <tr>\n",
       "      <th>0</th>\n",
       "      <td>0</td>\n",
       "      <td>427</td>\n",
       "      <td>2000</td>\n",
       "      <td>1</td>\n",
       "      <td>2</td>\n",
       "      <td>1254.0</td>\n",
       "      <td>2000.0</td>\n",
       "    </tr>\n",
       "    <tr>\n",
       "      <th>1</th>\n",
       "      <td>0</td>\n",
       "      <td>427</td>\n",
       "      <td>2000</td>\n",
       "      <td>1</td>\n",
       "      <td>74</td>\n",
       "      <td>2.0</td>\n",
       "      <td>1.0</td>\n",
       "    </tr>\n",
       "    <tr>\n",
       "      <th>2</th>\n",
       "      <td>0</td>\n",
       "      <td>427</td>\n",
       "      <td>2000</td>\n",
       "      <td>1</td>\n",
       "      <td>95</td>\n",
       "      <td>102.0</td>\n",
       "      <td>321.0</td>\n",
       "    </tr>\n",
       "    <tr>\n",
       "      <th>3</th>\n",
       "      <td>0</td>\n",
       "      <td>427</td>\n",
       "      <td>2000</td>\n",
       "      <td>4</td>\n",
       "      <td>7</td>\n",
       "      <td>176.0</td>\n",
       "      <td>641.0</td>\n",
       "    </tr>\n",
       "    <tr>\n",
       "      <th>4</th>\n",
       "      <td>0</td>\n",
       "      <td>427</td>\n",
       "      <td>2000</td>\n",
       "      <td>4</td>\n",
       "      <td>22</td>\n",
       "      <td>720.0</td>\n",
       "      <td>165.0</td>\n",
       "    </tr>\n",
       "    <tr>\n",
       "      <th>...</th>\n",
       "      <td>...</td>\n",
       "      <td>...</td>\n",
       "      <td>...</td>\n",
       "      <td>...</td>\n",
       "      <td>...</td>\n",
       "      <td>...</td>\n",
       "      <td>...</td>\n",
       "    </tr>\n",
       "    <tr>\n",
       "      <th>246086</th>\n",
       "      <td>32</td>\n",
       "      <td>471</td>\n",
       "      <td>2014</td>\n",
       "      <td>3</td>\n",
       "      <td>95</td>\n",
       "      <td>306.0</td>\n",
       "      <td>801.0</td>\n",
       "    </tr>\n",
       "    <tr>\n",
       "      <th>246087</th>\n",
       "      <td>32</td>\n",
       "      <td>471</td>\n",
       "      <td>2014</td>\n",
       "      <td>3</td>\n",
       "      <td>102</td>\n",
       "      <td>627.0</td>\n",
       "      <td>463.0</td>\n",
       "    </tr>\n",
       "    <tr>\n",
       "      <th>246088</th>\n",
       "      <td>32</td>\n",
       "      <td>471</td>\n",
       "      <td>2014</td>\n",
       "      <td>4</td>\n",
       "      <td>106</td>\n",
       "      <td>324.0</td>\n",
       "      <td>16250.0</td>\n",
       "    </tr>\n",
       "    <tr>\n",
       "      <th>246089</th>\n",
       "      <td>32</td>\n",
       "      <td>471</td>\n",
       "      <td>2014</td>\n",
       "      <td>5</td>\n",
       "      <td>95</td>\n",
       "      <td>279151.0</td>\n",
       "      <td>597899.0</td>\n",
       "    </tr>\n",
       "    <tr>\n",
       "      <th>246090</th>\n",
       "      <td>32</td>\n",
       "      <td>471</td>\n",
       "      <td>2014</td>\n",
       "      <td>5</td>\n",
       "      <td>102</td>\n",
       "      <td>175.0</td>\n",
       "      <td>88.0</td>\n",
       "    </tr>\n",
       "  </tbody>\n",
       "</table>\n",
       "<p>242361 rows × 7 columns</p>\n",
       "</div>"
      ],
      "text/plain": [
       "        State_Name  District_Name  Crop_Year  Season  Crop      Area  \\\n",
       "0                0            427       2000       1     2    1254.0   \n",
       "1                0            427       2000       1    74       2.0   \n",
       "2                0            427       2000       1    95     102.0   \n",
       "3                0            427       2000       4     7     176.0   \n",
       "4                0            427       2000       4    22     720.0   \n",
       "...            ...            ...        ...     ...   ...       ...   \n",
       "246086          32            471       2014       3    95     306.0   \n",
       "246087          32            471       2014       3   102     627.0   \n",
       "246088          32            471       2014       4   106     324.0   \n",
       "246089          32            471       2014       5    95  279151.0   \n",
       "246090          32            471       2014       5   102     175.0   \n",
       "\n",
       "        Production  \n",
       "0           2000.0  \n",
       "1              1.0  \n",
       "2            321.0  \n",
       "3            641.0  \n",
       "4            165.0  \n",
       "...            ...  \n",
       "246086       801.0  \n",
       "246087       463.0  \n",
       "246088     16250.0  \n",
       "246089    597899.0  \n",
       "246090        88.0  \n",
       "\n",
       "[242361 rows x 7 columns]"
      ]
     },
     "execution_count": 24,
     "metadata": {},
     "output_type": "execute_result"
    }
   ],
   "source": [
    "df"
   ]
  },
  {
   "cell_type": "code",
   "execution_count": 25,
   "id": "bb81e40a",
   "metadata": {},
   "outputs": [
    {
     "data": {
      "text/html": [
       "<div>\n",
       "<style scoped>\n",
       "    .dataframe tbody tr th:only-of-type {\n",
       "        vertical-align: middle;\n",
       "    }\n",
       "\n",
       "    .dataframe tbody tr th {\n",
       "        vertical-align: top;\n",
       "    }\n",
       "\n",
       "    .dataframe thead th {\n",
       "        text-align: right;\n",
       "    }\n",
       "</style>\n",
       "<table border=\"1\" class=\"dataframe\">\n",
       "  <thead>\n",
       "    <tr style=\"text-align: right;\">\n",
       "      <th></th>\n",
       "      <th>State_Name</th>\n",
       "      <th>District_Name</th>\n",
       "      <th>Crop_Year</th>\n",
       "      <th>Season</th>\n",
       "      <th>Crop</th>\n",
       "      <th>Area</th>\n",
       "      <th>Production</th>\n",
       "    </tr>\n",
       "  </thead>\n",
       "  <tbody>\n",
       "    <tr>\n",
       "      <th>State_Name</th>\n",
       "      <td>1.000000</td>\n",
       "      <td>-0.045010</td>\n",
       "      <td>-0.026002</td>\n",
       "      <td>-0.028548</td>\n",
       "      <td>0.013774</td>\n",
       "      <td>0.039070</td>\n",
       "      <td>-0.009502</td>\n",
       "    </tr>\n",
       "    <tr>\n",
       "      <th>District_Name</th>\n",
       "      <td>-0.045010</td>\n",
       "      <td>1.000000</td>\n",
       "      <td>-0.005558</td>\n",
       "      <td>0.017121</td>\n",
       "      <td>-0.005347</td>\n",
       "      <td>-0.019357</td>\n",
       "      <td>0.010130</td>\n",
       "    </tr>\n",
       "    <tr>\n",
       "      <th>Crop_Year</th>\n",
       "      <td>-0.026002</td>\n",
       "      <td>-0.005558</td>\n",
       "      <td>1.000000</td>\n",
       "      <td>-0.034248</td>\n",
       "      <td>0.002795</td>\n",
       "      <td>-0.025305</td>\n",
       "      <td>0.006989</td>\n",
       "    </tr>\n",
       "    <tr>\n",
       "      <th>Season</th>\n",
       "      <td>-0.028548</td>\n",
       "      <td>0.017121</td>\n",
       "      <td>-0.034248</td>\n",
       "      <td>1.000000</td>\n",
       "      <td>0.037093</td>\n",
       "      <td>-0.047684</td>\n",
       "      <td>0.045543</td>\n",
       "    </tr>\n",
       "    <tr>\n",
       "      <th>Crop</th>\n",
       "      <td>0.013774</td>\n",
       "      <td>-0.005347</td>\n",
       "      <td>0.002795</td>\n",
       "      <td>0.037093</td>\n",
       "      <td>1.000000</td>\n",
       "      <td>0.065100</td>\n",
       "      <td>-0.035280</td>\n",
       "    </tr>\n",
       "    <tr>\n",
       "      <th>Area</th>\n",
       "      <td>0.039070</td>\n",
       "      <td>-0.019357</td>\n",
       "      <td>-0.025305</td>\n",
       "      <td>-0.047684</td>\n",
       "      <td>0.065100</td>\n",
       "      <td>1.000000</td>\n",
       "      <td>0.040587</td>\n",
       "    </tr>\n",
       "    <tr>\n",
       "      <th>Production</th>\n",
       "      <td>-0.009502</td>\n",
       "      <td>0.010130</td>\n",
       "      <td>0.006989</td>\n",
       "      <td>0.045543</td>\n",
       "      <td>-0.035280</td>\n",
       "      <td>0.040587</td>\n",
       "      <td>1.000000</td>\n",
       "    </tr>\n",
       "  </tbody>\n",
       "</table>\n",
       "</div>"
      ],
      "text/plain": [
       "               State_Name  District_Name  Crop_Year    Season      Crop  \\\n",
       "State_Name       1.000000      -0.045010  -0.026002 -0.028548  0.013774   \n",
       "District_Name   -0.045010       1.000000  -0.005558  0.017121 -0.005347   \n",
       "Crop_Year       -0.026002      -0.005558   1.000000 -0.034248  0.002795   \n",
       "Season          -0.028548       0.017121  -0.034248  1.000000  0.037093   \n",
       "Crop             0.013774      -0.005347   0.002795  0.037093  1.000000   \n",
       "Area             0.039070      -0.019357  -0.025305 -0.047684  0.065100   \n",
       "Production      -0.009502       0.010130   0.006989  0.045543 -0.035280   \n",
       "\n",
       "                   Area  Production  \n",
       "State_Name     0.039070   -0.009502  \n",
       "District_Name -0.019357    0.010130  \n",
       "Crop_Year     -0.025305    0.006989  \n",
       "Season        -0.047684    0.045543  \n",
       "Crop           0.065100   -0.035280  \n",
       "Area           1.000000    0.040587  \n",
       "Production     0.040587    1.000000  "
      ]
     },
     "execution_count": 25,
     "metadata": {},
     "output_type": "execute_result"
    }
   ],
   "source": [
    "df.corr()"
   ]
  },
  {
   "cell_type": "code",
   "execution_count": 26,
   "id": "d2bd210b",
   "metadata": {},
   "outputs": [
    {
     "data": {
      "image/png": "[encoded data removed]",
      "text/plain": [
       "<Figure size 500x300 with 2 Axes>"
      ]
     },
     "metadata": {},
     "output_type": "display_data"
    }
   ],
   "source": [
    "plt.figure(figsize=(5,3))\n",
    "\n",
    "sns.heatmap(df.corr(),annot=True)\n",
    "\n",
    "plt.show()"
   ]
  },
  {
   "cell_type": "code",
   "execution_count": 27,
   "id": "be4c27e5",
   "metadata": {},
   "outputs": [],
   "source": [
    "x = df.iloc[:,:-1]   #excluding target column\n",
    "y = df.iloc[:,-1]"
   ]
  },
  {
   "cell_type": "code",
   "execution_count": 28,
   "id": "8c63b329",
   "metadata": {},
   "outputs": [
    {
     "data": {
      "text/html": [
       "<div>\n",
       "<style scoped>\n",
       "    .dataframe tbody tr th:only-of-type {\n",
       "        vertical-align: middle;\n",
       "    }\n",
       "\n",
       "    .dataframe tbody tr th {\n",
       "        vertical-align: top;\n",
       "    }\n",
       "\n",
       "    .dataframe thead th {\n",
       "        text-align: right;\n",
       "    }\n",
       "</style>\n",
       "<table border=\"1\" class=\"dataframe\">\n",
       "  <thead>\n",
       "    <tr style=\"text-align: right;\">\n",
       "      <th></th>\n",
       "      <th>State_Name</th>\n",
       "      <th>District_Name</th>\n",
       "      <th>Crop_Year</th>\n",
       "      <th>Season</th>\n",
       "      <th>Crop</th>\n",
       "      <th>Area</th>\n",
       "    </tr>\n",
       "  </thead>\n",
       "  <tbody>\n",
       "    <tr>\n",
       "      <th>0</th>\n",
       "      <td>0</td>\n",
       "      <td>427</td>\n",
       "      <td>2000</td>\n",
       "      <td>1</td>\n",
       "      <td>2</td>\n",
       "      <td>1254.0</td>\n",
       "    </tr>\n",
       "    <tr>\n",
       "      <th>1</th>\n",
       "      <td>0</td>\n",
       "      <td>427</td>\n",
       "      <td>2000</td>\n",
       "      <td>1</td>\n",
       "      <td>74</td>\n",
       "      <td>2.0</td>\n",
       "    </tr>\n",
       "    <tr>\n",
       "      <th>2</th>\n",
       "      <td>0</td>\n",
       "      <td>427</td>\n",
       "      <td>2000</td>\n",
       "      <td>1</td>\n",
       "      <td>95</td>\n",
       "      <td>102.0</td>\n",
       "    </tr>\n",
       "    <tr>\n",
       "      <th>3</th>\n",
       "      <td>0</td>\n",
       "      <td>427</td>\n",
       "      <td>2000</td>\n",
       "      <td>4</td>\n",
       "      <td>7</td>\n",
       "      <td>176.0</td>\n",
       "    </tr>\n",
       "    <tr>\n",
       "      <th>4</th>\n",
       "      <td>0</td>\n",
       "      <td>427</td>\n",
       "      <td>2000</td>\n",
       "      <td>4</td>\n",
       "      <td>22</td>\n",
       "      <td>720.0</td>\n",
       "    </tr>\n",
       "    <tr>\n",
       "      <th>...</th>\n",
       "      <td>...</td>\n",
       "      <td>...</td>\n",
       "      <td>...</td>\n",
       "      <td>...</td>\n",
       "      <td>...</td>\n",
       "      <td>...</td>\n",
       "    </tr>\n",
       "    <tr>\n",
       "      <th>246086</th>\n",
       "      <td>32</td>\n",
       "      <td>471</td>\n",
       "      <td>2014</td>\n",
       "      <td>3</td>\n",
       "      <td>95</td>\n",
       "      <td>306.0</td>\n",
       "    </tr>\n",
       "    <tr>\n",
       "      <th>246087</th>\n",
       "      <td>32</td>\n",
       "      <td>471</td>\n",
       "      <td>2014</td>\n",
       "      <td>3</td>\n",
       "      <td>102</td>\n",
       "      <td>627.0</td>\n",
       "    </tr>\n",
       "    <tr>\n",
       "      <th>246088</th>\n",
       "      <td>32</td>\n",
       "      <td>471</td>\n",
       "      <td>2014</td>\n",
       "      <td>4</td>\n",
       "      <td>106</td>\n",
       "      <td>324.0</td>\n",
       "    </tr>\n",
       "    <tr>\n",
       "      <th>246089</th>\n",
       "      <td>32</td>\n",
       "      <td>471</td>\n",
       "      <td>2014</td>\n",
       "      <td>5</td>\n",
       "      <td>95</td>\n",
       "      <td>279151.0</td>\n",
       "    </tr>\n",
       "    <tr>\n",
       "      <th>246090</th>\n",
       "      <td>32</td>\n",
       "      <td>471</td>\n",
       "      <td>2014</td>\n",
       "      <td>5</td>\n",
       "      <td>102</td>\n",
       "      <td>175.0</td>\n",
       "    </tr>\n",
       "  </tbody>\n",
       "</table>\n",
       "<p>242361 rows × 6 columns</p>\n",
       "</div>"
      ],
      "text/plain": [
       "        State_Name  District_Name  Crop_Year  Season  Crop      Area\n",
       "0                0            427       2000       1     2    1254.0\n",
       "1                0            427       2000       1    74       2.0\n",
       "2                0            427       2000       1    95     102.0\n",
       "3                0            427       2000       4     7     176.0\n",
       "4                0            427       2000       4    22     720.0\n",
       "...            ...            ...        ...     ...   ...       ...\n",
       "246086          32            471       2014       3    95     306.0\n",
       "246087          32            471       2014       3   102     627.0\n",
       "246088          32            471       2014       4   106     324.0\n",
       "246089          32            471       2014       5    95  279151.0\n",
       "246090          32            471       2014       5   102     175.0\n",
       "\n",
       "[242361 rows x 6 columns]"
      ]
     },
     "execution_count": 28,
     "metadata": {},
     "output_type": "execute_result"
    }
   ],
   "source": [
    "x"
   ]
  },
  {
   "cell_type": "code",
   "execution_count": 29,
   "id": "cb9b8b0d",
   "metadata": {},
   "outputs": [
    {
     "data": {
      "text/plain": [
       "0           2000.0\n",
       "1              1.0\n",
       "2            321.0\n",
       "3            641.0\n",
       "4            165.0\n",
       "            ...   \n",
       "246086       801.0\n",
       "246087       463.0\n",
       "246088     16250.0\n",
       "246089    597899.0\n",
       "246090        88.0\n",
       "Name: Production, Length: 242361, dtype: float64"
      ]
     },
     "execution_count": 29,
     "metadata": {},
     "output_type": "execute_result"
    }
   ],
   "source": [
    "y"
   ]
  },
  {
   "cell_type": "code",
   "execution_count": 30,
   "id": "c977c18a",
   "metadata": {},
   "outputs": [],
   "source": [
    "from sklearn.model_selection import train_test_split\n",
    "x_train,x_test,y_train,y_test = train_test_split(x,y,train_size=0.70,random_state = 0)"
   ]
  },
  {
   "cell_type": "code",
   "execution_count": 31,
   "id": "aa43c252",
   "metadata": {},
   "outputs": [
    {
     "data": {
      "text/html": [
       "<div>\n",
       "<style scoped>\n",
       "    .dataframe tbody tr th:only-of-type {\n",
       "        vertical-align: middle;\n",
       "    }\n",
       "\n",
       "    .dataframe tbody tr th {\n",
       "        vertical-align: top;\n",
       "    }\n",
       "\n",
       "    .dataframe thead th {\n",
       "        text-align: right;\n",
       "    }\n",
       "</style>\n",
       "<table border=\"1\" class=\"dataframe\">\n",
       "  <thead>\n",
       "    <tr style=\"text-align: right;\">\n",
       "      <th></th>\n",
       "      <th>State_Name</th>\n",
       "      <th>District_Name</th>\n",
       "      <th>Crop_Year</th>\n",
       "      <th>Season</th>\n",
       "      <th>Crop</th>\n",
       "      <th>Area</th>\n",
       "    </tr>\n",
       "  </thead>\n",
       "  <tbody>\n",
       "    <tr>\n",
       "      <th>6919</th>\n",
       "      <td>1</td>\n",
       "      <td>566</td>\n",
       "      <td>2013</td>\n",
       "      <td>1</td>\n",
       "      <td>63</td>\n",
       "      <td>195.0</td>\n",
       "    </tr>\n",
       "    <tr>\n",
       "      <th>193586</th>\n",
       "      <td>28</td>\n",
       "      <td>366</td>\n",
       "      <td>2010</td>\n",
       "      <td>2</td>\n",
       "      <td>95</td>\n",
       "      <td>66287.0</td>\n",
       "    </tr>\n",
       "    <tr>\n",
       "      <th>158975</th>\n",
       "      <td>22</td>\n",
       "      <td>511</td>\n",
       "      <td>1997</td>\n",
       "      <td>5</td>\n",
       "      <td>3</td>\n",
       "      <td>54.0</td>\n",
       "    </tr>\n",
       "    <tr>\n",
       "      <th>170574</th>\n",
       "      <td>25</td>\n",
       "      <td>223</td>\n",
       "      <td>2006</td>\n",
       "      <td>4</td>\n",
       "      <td>44</td>\n",
       "      <td>287382.0</td>\n",
       "    </tr>\n",
       "    <tr>\n",
       "      <th>136337</th>\n",
       "      <td>17</td>\n",
       "      <td>554</td>\n",
       "      <td>2005</td>\n",
       "      <td>2</td>\n",
       "      <td>119</td>\n",
       "      <td>58900.0</td>\n",
       "    </tr>\n",
       "    <tr>\n",
       "      <th>...</th>\n",
       "      <td>...</td>\n",
       "      <td>...</td>\n",
       "      <td>...</td>\n",
       "      <td>...</td>\n",
       "      <td>...</td>\n",
       "      <td>...</td>\n",
       "    </tr>\n",
       "    <tr>\n",
       "      <th>180206</th>\n",
       "      <td>27</td>\n",
       "      <td>179</td>\n",
       "      <td>2003</td>\n",
       "      <td>4</td>\n",
       "      <td>87</td>\n",
       "      <td>128.0</td>\n",
       "    </tr>\n",
       "    <tr>\n",
       "      <th>120398</th>\n",
       "      <td>16</td>\n",
       "      <td>524</td>\n",
       "      <td>2001</td>\n",
       "      <td>1</td>\n",
       "      <td>25</td>\n",
       "      <td>5.0</td>\n",
       "    </tr>\n",
       "    <tr>\n",
       "      <th>176870</th>\n",
       "      <td>25</td>\n",
       "      <td>602</td>\n",
       "      <td>2008</td>\n",
       "      <td>1</td>\n",
       "      <td>116</td>\n",
       "      <td>7124.0</td>\n",
       "    </tr>\n",
       "    <tr>\n",
       "      <th>43653</th>\n",
       "      <td>4</td>\n",
       "      <td>532</td>\n",
       "      <td>2013</td>\n",
       "      <td>1</td>\n",
       "      <td>102</td>\n",
       "      <td>100.0</td>\n",
       "    </tr>\n",
       "    <tr>\n",
       "      <th>202884</th>\n",
       "      <td>30</td>\n",
       "      <td>45</td>\n",
       "      <td>2010</td>\n",
       "      <td>1</td>\n",
       "      <td>103</td>\n",
       "      <td>16.0</td>\n",
       "    </tr>\n",
       "  </tbody>\n",
       "</table>\n",
       "<p>169652 rows × 6 columns</p>\n",
       "</div>"
      ],
      "text/plain": [
       "        State_Name  District_Name  Crop_Year  Season  Crop      Area\n",
       "6919             1            566       2013       1    63     195.0\n",
       "193586          28            366       2010       2    95   66287.0\n",
       "158975          22            511       1997       5     3      54.0\n",
       "170574          25            223       2006       4    44  287382.0\n",
       "136337          17            554       2005       2   119   58900.0\n",
       "...            ...            ...        ...     ...   ...       ...\n",
       "180206          27            179       2003       4    87     128.0\n",
       "120398          16            524       2001       1    25       5.0\n",
       "176870          25            602       2008       1   116    7124.0\n",
       "43653            4            532       2013       1   102     100.0\n",
       "202884          30             45       2010       1   103      16.0\n",
       "\n",
       "[169652 rows x 6 columns]"
      ]
     },
     "execution_count": 31,
     "metadata": {},
     "output_type": "execute_result"
    }
   ],
   "source": [
    "x_train"
   ]
  },
  {
   "cell_type": "code",
   "execution_count": 32,
   "id": "56c4dd4f",
   "metadata": {},
   "outputs": [
    {
     "data": {
      "text/html": [
       "<div>\n",
       "<style scoped>\n",
       "    .dataframe tbody tr th:only-of-type {\n",
       "        vertical-align: middle;\n",
       "    }\n",
       "\n",
       "    .dataframe tbody tr th {\n",
       "        vertical-align: top;\n",
       "    }\n",
       "\n",
       "    .dataframe thead th {\n",
       "        text-align: right;\n",
       "    }\n",
       "</style>\n",
       "<table border=\"1\" class=\"dataframe\">\n",
       "  <thead>\n",
       "    <tr style=\"text-align: right;\">\n",
       "      <th></th>\n",
       "      <th>State_Name</th>\n",
       "      <th>District_Name</th>\n",
       "      <th>Crop_Year</th>\n",
       "      <th>Season</th>\n",
       "      <th>Crop</th>\n",
       "      <th>Area</th>\n",
       "    </tr>\n",
       "  </thead>\n",
       "  <tbody>\n",
       "    <tr>\n",
       "      <th>116287</th>\n",
       "      <td>16</td>\n",
       "      <td>426</td>\n",
       "      <td>2010</td>\n",
       "      <td>1</td>\n",
       "      <td>116</td>\n",
       "      <td>4309.0</td>\n",
       "    </tr>\n",
       "    <tr>\n",
       "      <th>212921</th>\n",
       "      <td>30</td>\n",
       "      <td>213</td>\n",
       "      <td>2003</td>\n",
       "      <td>2</td>\n",
       "      <td>67</td>\n",
       "      <td>65.0</td>\n",
       "    </tr>\n",
       "    <tr>\n",
       "      <th>6248</th>\n",
       "      <td>1</td>\n",
       "      <td>463</td>\n",
       "      <td>2013</td>\n",
       "      <td>2</td>\n",
       "      <td>67</td>\n",
       "      <td>67.0</td>\n",
       "    </tr>\n",
       "    <tr>\n",
       "      <th>46869</th>\n",
       "      <td>6</td>\n",
       "      <td>66</td>\n",
       "      <td>2011</td>\n",
       "      <td>1</td>\n",
       "      <td>87</td>\n",
       "      <td>3.0</td>\n",
       "    </tr>\n",
       "    <tr>\n",
       "      <th>166807</th>\n",
       "      <td>25</td>\n",
       "      <td>79</td>\n",
       "      <td>2010</td>\n",
       "      <td>2</td>\n",
       "      <td>123</td>\n",
       "      <td>632.0</td>\n",
       "    </tr>\n",
       "    <tr>\n",
       "      <th>...</th>\n",
       "      <td>...</td>\n",
       "      <td>...</td>\n",
       "      <td>...</td>\n",
       "      <td>...</td>\n",
       "      <td>...</td>\n",
       "      <td>...</td>\n",
       "    </tr>\n",
       "    <tr>\n",
       "      <th>237346</th>\n",
       "      <td>32</td>\n",
       "      <td>1</td>\n",
       "      <td>2013</td>\n",
       "      <td>4</td>\n",
       "      <td>106</td>\n",
       "      <td>27.0</td>\n",
       "    </tr>\n",
       "    <tr>\n",
       "      <th>78477</th>\n",
       "      <td>14</td>\n",
       "      <td>71</td>\n",
       "      <td>1999</td>\n",
       "      <td>2</td>\n",
       "      <td>41</td>\n",
       "      <td>26089.0</td>\n",
       "    </tr>\n",
       "    <tr>\n",
       "      <th>143130</th>\n",
       "      <td>21</td>\n",
       "      <td>160</td>\n",
       "      <td>2008</td>\n",
       "      <td>1</td>\n",
       "      <td>59</td>\n",
       "      <td>5270.0</td>\n",
       "    </tr>\n",
       "    <tr>\n",
       "      <th>16074</th>\n",
       "      <td>3</td>\n",
       "      <td>155</td>\n",
       "      <td>1999</td>\n",
       "      <td>4</td>\n",
       "      <td>106</td>\n",
       "      <td>216.0</td>\n",
       "    </tr>\n",
       "    <tr>\n",
       "      <th>118917</th>\n",
       "      <td>16</td>\n",
       "      <td>503</td>\n",
       "      <td>2001</td>\n",
       "      <td>2</td>\n",
       "      <td>69</td>\n",
       "      <td>72686.0</td>\n",
       "    </tr>\n",
       "  </tbody>\n",
       "</table>\n",
       "<p>72709 rows × 6 columns</p>\n",
       "</div>"
      ],
      "text/plain": [
       "        State_Name  District_Name  Crop_Year  Season  Crop     Area\n",
       "116287          16            426       2010       1   116   4309.0\n",
       "212921          30            213       2003       2    67     65.0\n",
       "6248             1            463       2013       2    67     67.0\n",
       "46869            6             66       2011       1    87      3.0\n",
       "166807          25             79       2010       2   123    632.0\n",
       "...            ...            ...        ...     ...   ...      ...\n",
       "237346          32              1       2013       4   106     27.0\n",
       "78477           14             71       1999       2    41  26089.0\n",
       "143130          21            160       2008       1    59   5270.0\n",
       "16074            3            155       1999       4   106    216.0\n",
       "118917          16            503       2001       2    69  72686.0\n",
       "\n",
       "[72709 rows x 6 columns]"
      ]
     },
     "execution_count": 32,
     "metadata": {},
     "output_type": "execute_result"
    }
   ],
   "source": [
    "x_test"
   ]
  },
  {
   "cell_type": "code",
   "execution_count": 33,
   "id": "b0b20657",
   "metadata": {},
   "outputs": [
    {
     "data": {
      "text/plain": [
       "6919          80.0\n",
       "193586    185537.0\n",
       "158975        12.0\n",
       "170574     76256.0\n",
       "136337     69200.0\n",
       "            ...   \n",
       "180206      1995.0\n",
       "120398         2.0\n",
       "176870      1623.0\n",
       "43653         87.0\n",
       "202884        11.0\n",
       "Name: Production, Length: 169652, dtype: float64"
      ]
     },
     "execution_count": 33,
     "metadata": {},
     "output_type": "execute_result"
    }
   ],
   "source": [
    "y_train"
   ]
  },
  {
   "cell_type": "code",
   "execution_count": 34,
   "id": "c7c95ccc",
   "metadata": {},
   "outputs": [
    {
     "data": {
      "text/plain": [
       "116287     1959.0\n",
       "212921      933.0\n",
       "6248       1241.0\n",
       "46869        18.0\n",
       "166807      258.0\n",
       "           ...   \n",
       "237346     2706.0\n",
       "78477     21028.0\n",
       "143130     9530.0\n",
       "16074      8567.0\n",
       "118917    27285.0\n",
       "Name: Production, Length: 72709, dtype: float64"
      ]
     },
     "execution_count": 34,
     "metadata": {},
     "output_type": "execute_result"
    }
   ],
   "source": [
    "y_test"
   ]
  },
  {
   "cell_type": "code",
   "execution_count": 41,
   "id": "6b9cde15",
   "metadata": {},
   "outputs": [
    {
     "data": {
      "text/html": [
       "<style>#sk-container-id-1 {color: black;background-color: white;}#sk-container-id-1 pre{padding: 0;}#sk-container-id-1 div.sk-toggleable {background-color: white;}#sk-container-id-1 label.sk-toggleable__label {cursor: pointer;display: block;width: 100%;margin-bottom: 0;padding: 0.3em;box-sizing: border-box;text-align: center;}#sk-container-id-1 label.sk-toggleable__label-arrow:before {content: \"▸\";float: left;margin-right: 0.25em;color: #696969;}#sk-container-id-1 label.sk-toggleable__label-arrow:hover:before {color: black;}#sk-container-id-1 div.sk-estimator:hover label.sk-toggleable__label-arrow:before {color: black;}#sk-container-id-1 div.sk-toggleable__content {max-height: 0;max-width: 0;overflow: hidden;text-align: left;background-color: #f0f8ff;}#sk-container-id-1 div.sk-toggleable__content pre {margin: 0.2em;color: black;border-radius: 0.25em;background-color: #f0f8ff;}#sk-container-id-1 input.sk-toggleable__control:checked~div.sk-toggleable__content {max-height: 200px;max-width: 100%;overflow: auto;}#sk-container-id-1 input.sk-toggleable__control:checked~label.sk-toggleable__label-arrow:before {content: \"▾\";}#sk-container-id-1 div.sk-estimator input.sk-toggleable__control:checked~label.sk-toggleable__label {background-color: #d4ebff;}#sk-container-id-1 div.sk-label input.sk-toggleable__control:checked~label.sk-toggleable__label {background-color: #d4ebff;}#sk-container-id-1 input.sk-hidden--visually {border: 0;clip: rect(1px 1px 1px 1px);clip: rect(1px, 1px, 1px, 1px);height: 1px;margin: -1px;overflow: hidden;padding: 0;position: absolute;width: 1px;}#sk-container-id-1 div.sk-estimator {font-family: monospace;background-color: #f0f8ff;border: 1px dotted black;border-radius: 0.25em;box-sizing: border-box;margin-bottom: 0.5em;}#sk-container-id-1 div.sk-estimator:hover {background-color: #d4ebff;}#sk-container-id-1 div.sk-parallel-item::after {content: \"\";width: 100%;border-bottom: 1px solid gray;flex-grow: 1;}#sk-container-id-1 div.sk-label:hover label.sk-toggleable__label {background-color: #d4ebff;}#sk-container-id-1 div.sk-serial::before {content: \"\";position: absolute;border-left: 1px solid gray;box-sizing: border-box;top: 0;bottom: 0;left: 50%;z-index: 0;}#sk-container-id-1 div.sk-serial {display: flex;flex-direction: column;align-items: center;background-color: white;padding-right: 0.2em;padding-left: 0.2em;position: relative;}#sk-container-id-1 div.sk-item {position: relative;z-index: 1;}#sk-container-id-1 div.sk-parallel {display: flex;align-items: stretch;justify-content: center;background-color: white;position: relative;}#sk-container-id-1 div.sk-item::before, #sk-container-id-1 div.sk-parallel-item::before {content: \"\";position: absolute;border-left: 1px solid gray;box-sizing: border-box;top: 0;bottom: 0;left: 50%;z-index: -1;}#sk-container-id-1 div.sk-parallel-item {display: flex;flex-direction: column;z-index: 1;position: relative;background-color: white;}#sk-container-id-1 div.sk-parallel-item:first-child::after {align-self: flex-end;width: 50%;}#sk-container-id-1 div.sk-parallel-item:last-child::after {align-self: flex-start;width: 50%;}#sk-container-id-1 div.sk-parallel-item:only-child::after {width: 0;}#sk-container-id-1 div.sk-dashed-wrapped {border: 1px dashed gray;margin: 0 0.4em 0.5em 0.4em;box-sizing: border-box;padding-bottom: 0.4em;background-color: white;}#sk-container-id-1 div.sk-label label {font-family: monospace;font-weight: bold;display: inline-block;line-height: 1.2em;}#sk-container-id-1 div.sk-label-container {text-align: center;}#sk-container-id-1 div.sk-container {/* jupyter's `normalize.less` sets `[hidden] { display: none; }` but bootstrap.min.css set `[hidden] { display: none !important; }` so we also need the `!important` here to be able to override the default hidden behavior on the sphinx rendered scikit-learn.org. See: https://github.com/scikit-learn/scikit-learn/issues/21755 */display: inline-block !important;position: relative;}#sk-container-id-1 div.sk-text-repr-fallback {display: none;}</style><div id=\"sk-container-id-1\" class=\"sk-top-container\"><div class=\"sk-text-repr-fallback\"><pre>RandomForestRegressor(random_state=42)</pre><b>In a Jupyter environment, please rerun this cell to show the HTML representation or trust the notebook. <br />On GitHub, the HTML representation is unable to render, please try loading this page with nbviewer.org.</b></div><div class=\"sk-container\" hidden><div class=\"sk-item\"><div class=\"sk-estimator sk-toggleable\"><input class=\"sk-toggleable__control sk-hidden--visually\" id=\"sk-estimator-id-1\" type=\"checkbox\" checked><label for=\"sk-estimator-id-1\" class=\"sk-toggleable__label sk-toggleable__label-arrow\">RandomForestRegressor</label><div class=\"sk-toggleable__content\"><pre>RandomForestRegressor(random_state=42)</pre></div></div></div></div></div>"
      ],
      "text/plain": [
       "RandomForestRegressor(random_state=42)"
      ]
     },
     "execution_count": 41,
     "metadata": {},
     "output_type": "execute_result"
    }
   ],
   "source": [
    "from sklearn.ensemble import RandomForestRegressor\n",
    "model_filtered = RandomForestRegressor(n_estimators=100, random_state=42)\n",
    "model_filtered.fit(x_train, y_train)\n"
   ]
  },
  {
   "cell_type": "code",
   "execution_count": 42,
   "id": "1aaa324a",
   "metadata": {},
   "outputs": [],
   "source": [
    "y_pred = model_filtered.predict(x_test)"
   ]
  },
  {
   "cell_type": "code",
   "execution_count": 43,
   "id": "ca769869",
   "metadata": {},
   "outputs": [
    {
     "data": {
      "text/plain": [
       "array([ 1814.601,   886.7  ,  1173.76 , ...,  7802.1  ,  8470.73 ,\n",
       "       27899.46 ])"
      ]
     },
     "execution_count": 43,
     "metadata": {},
     "output_type": "execute_result"
    }
   ],
   "source": [
    "y_pred"
   ]
  },
  {
   "cell_type": "code",
   "execution_count": 50,
   "id": "f5885d51",
   "metadata": {},
   "outputs": [],
   "source": [
    "from sklearn.metrics import mean_squared_error, r2_score\n",
    "mse = mean_squared_error(y_test, y_pred)\n",
    "r2_score= r2_score(y_test, y_pred)\n",
    "rmse = mean_squared_error(y_test, y_pred, squared=False)"
   ]
  },
  {
   "cell_type": "code",
   "execution_count": 47,
   "id": "895bac63",
   "metadata": {},
   "outputs": [
    {
     "data": {
      "text/plain": [
       "27147621935643.957"
      ]
     },
     "execution_count": 47,
     "metadata": {},
     "output_type": "execute_result"
    }
   ],
   "source": [
    "mse"
   ]
  },
  {
   "cell_type": "code",
   "execution_count": 48,
   "id": "188a9c79",
   "metadata": {},
   "outputs": [
    {
     "data": {
      "text/plain": [
       "0.8946693085704898"
      ]
     },
     "execution_count": 48,
     "metadata": {},
     "output_type": "execute_result"
    }
   ],
   "source": [
    "r2_score"
   ]
  },
  {
   "cell_type": "code",
   "execution_count": 51,
   "id": "80fc8072",
   "metadata": {},
   "outputs": [
    {
     "data": {
      "text/plain": [
       "5210337.986699515"
      ]
     },
     "execution_count": 51,
     "metadata": {},
     "output_type": "execute_result"
    }
   ],
   "source": [
    "rmse"
   ]
  }
 ],
 "metadata": {
  "kernelspec": {
   "display_name": "Python 3 (ipykernel)",
   "language": "python",
   "name": "python3"
  },
  "language_info": {
   "codemirror_mode": {
    "name": "ipython",
    "version": 3
   },
   "file_extension": ".py",
   "mimetype": "text/x-python",
   "name": "python",
   "nbconvert_exporter": "python",
   "pygments_lexer": "ipython3",
   "version": "3.10.9"
  }
 },
 "nbformat": 4,
 "nbformat_minor": 5
}
